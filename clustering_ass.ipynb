{
  "nbformat": 4,
  "nbformat_minor": 0,
  "metadata": {
    "colab": {
      "provenance": [],
      "authorship_tag": "ABX9TyOls+QBfx/BeNnL2n5mcAKG",
      "include_colab_link": true
    },
    "kernelspec": {
      "name": "python3",
      "display_name": "Python 3"
    },
    "language_info": {
      "name": "python"
    }
  },
  "cells": [
    {
      "cell_type": "markdown",
      "metadata": {
        "id": "view-in-github",
        "colab_type": "text"
      },
      "source": [
        "<a href=\"https://colab.research.google.com/github/Gauransh777/Clustering-Assignment/blob/main/clustering_ass.ipynb\" target=\"_parent\"><img src=\"https://colab.research.google.com/assets/colab-badge.svg\" alt=\"Open In Colab\"/></a>"
      ]
    },
    {
      "cell_type": "code",
      "execution_count": 18,
      "metadata": {
        "id": "qKWkbfL-EGwg"
      },
      "outputs": [],
      "source": [
        "import pandas as pd\n",
        "import numpy as np\n",
        "import matplotlib.pyplot as plt\n",
        "from sklearn.preprocessing import StandardScaler, PowerTransformer\n",
        "from sklearn.decomposition import PCA\n",
        "from sklearn.cluster import KMeans, MeanShift, estimate_bandwidth, AgglomerativeClustering\n",
        "from sklearn.metrics import silhouette_score, calinski_harabasz_score, davies_bouldin_score\n",
        "from tabulate import tabulate\n",
        "import warnings"
      ]
    },
    {
      "cell_type": "code",
      "source": [
        "df = pd.read_excel(\"https://archive.ics.uci.edu/ml/machine-learning-databases/00242/ENB2012_data.xlsx\")"
      ],
      "metadata": {
        "id": "wQrLpHCzELpo"
      },
      "execution_count": 3,
      "outputs": []
    },
    {
      "cell_type": "code",
      "source": [
        "print(\"Shape of data:\", df.shape)\n",
        "print(\"\\nInfo:\\n\")\n",
        "print(df.info())"
      ],
      "metadata": {
        "colab": {
          "base_uri": "https://localhost:8080/"
        },
        "id": "OGAlXbCfERNj",
        "outputId": "2973fb13-52bb-41dc-f16a-88476d5c71a1"
      },
      "execution_count": 4,
      "outputs": [
        {
          "output_type": "stream",
          "name": "stdout",
          "text": [
            "Shape of data: (768, 10)\n",
            "\n",
            "Info:\n",
            "\n",
            "<class 'pandas.core.frame.DataFrame'>\n",
            "RangeIndex: 768 entries, 0 to 767\n",
            "Data columns (total 10 columns):\n",
            " #   Column  Non-Null Count  Dtype  \n",
            "---  ------  --------------  -----  \n",
            " 0   X1      768 non-null    float64\n",
            " 1   X2      768 non-null    float64\n",
            " 2   X3      768 non-null    float64\n",
            " 3   X4      768 non-null    float64\n",
            " 4   X5      768 non-null    float64\n",
            " 5   X6      768 non-null    int64  \n",
            " 6   X7      768 non-null    float64\n",
            " 7   X8      768 non-null    int64  \n",
            " 8   Y1      768 non-null    float64\n",
            " 9   Y2      768 non-null    float64\n",
            "dtypes: float64(8), int64(2)\n",
            "memory usage: 60.1 KB\n",
            "None\n"
          ]
        }
      ]
    },
    {
      "cell_type": "code",
      "source": [
        "X_original = df.iloc[:, :8].values"
      ],
      "metadata": {
        "id": "-ae9IN5bEU0e"
      },
      "execution_count": 5,
      "outputs": []
    },
    {
      "cell_type": "code",
      "source": [
        "def evaluate_clustering(X, labels):\n",
        "    return {\n",
        "        'Silhouette': silhouette_score(X, labels),\n",
        "        'Calinski-Harabasz': calinski_harabasz_score(X, labels),\n",
        "        'Davies-Bouldin': davies_bouldin_score(X, labels)\n",
        "    }"
      ],
      "metadata": {
        "id": "CrR94dNuEejx"
      },
      "execution_count": 7,
      "outputs": []
    },
    {
      "cell_type": "code",
      "source": [
        "def apply_preprocessing(X, normalization=False, transform=False, pca=False):\n",
        "    if transform:\n",
        "        X = PowerTransformer().fit_transform(X)\n",
        "    if normalization:\n",
        "        X = StandardScaler().fit_transform(X)\n",
        "    if pca:\n",
        "        X = PCA(n_components=0.95).fit_transform(X)\n",
        "    return X"
      ],
      "metadata": {
        "id": "Ty0qABHMEoUK"
      },
      "execution_count": 8,
      "outputs": []
    },
    {
      "cell_type": "code",
      "source": [
        "def kmeans_clustering(X, clusters):\n",
        "    model = KMeans(n_clusters=clusters, random_state=42)\n",
        "    labels = model.fit_predict(X)\n",
        "    return evaluate_clustering(X, labels)\n",
        "\n",
        "def hierarchical_clustering(X, clusters):\n",
        "    model = AgglomerativeClustering(n_clusters=clusters)\n",
        "    labels = model.fit_predict(X)\n",
        "    return evaluate_clustering(X, labels)\n",
        "\n",
        "def mean_shift_clustering(X):\n",
        "    bandwidth = estimate_bandwidth(X, quantile=0.2)\n",
        "    if bandwidth <= 0:\n",
        "        return None\n",
        "    model = MeanShift(bandwidth=bandwidth)\n",
        "    labels = model.fit_predict(X)\n",
        "    return evaluate_clustering(X, labels)"
      ],
      "metadata": {
        "id": "WfbcKrnrEu28"
      },
      "execution_count": 9,
      "outputs": []
    },
    {
      "cell_type": "code",
      "source": [
        "preprocessing_options = {\n",
        "    'No Data Processing': (False, False, False),\n",
        "    'Using Normalization': (True, False, False),\n",
        "    'Using Transform': (False, True, False),\n",
        "    'Using PCA': (False, False, True),\n",
        "    'Using T+N': (True, True, False),\n",
        "    'T+N+PCA': (True, True, True)\n",
        "}"
      ],
      "metadata": {
        "id": "jhVmm04tEyul"
      },
      "execution_count": 10,
      "outputs": []
    },
    {
      "cell_type": "code",
      "source": [
        "results_kmeans = {}\n",
        "results_hierarchical = {}\n",
        "results_meanshift = {}"
      ],
      "metadata": {
        "id": "POXdKa7TE2G6"
      },
      "execution_count": 11,
      "outputs": []
    },
    {
      "cell_type": "code",
      "source": [
        "for label, (norm, trans, pca) in preprocessing_options.items():\n",
        "    X_proc = apply_preprocessing(X_original, normalization=norm, transform=trans, pca=pca)\n",
        "\n",
        "    for c in [3, 4, 5]:\n",
        "        try:\n",
        "            results_kmeans[(label, c)] = kmeans_clustering(X_proc, c)\n",
        "            results_hierarchical[(label, c)] = hierarchical_clustering(X_proc, c)\n",
        "        except:\n",
        "            results_kmeans[(label, c)] = results_hierarchical[(label, c)] = {'Silhouette': 'NA', 'Calinski-Harabasz': 'NA', 'Davies-Bouldin': 'NA'}\n",
        "\n",
        "    try:\n",
        "        results_meanshift[label] = mean_shift_clustering(X_proc)\n",
        "    except:\n",
        "        results_meanshift[label] = {'Silhouette': 'NA', 'Calinski-Harabasz': 'NA', 'Davies-Bouldin': 'NA'}"
      ],
      "metadata": {
        "id": "T-8yeO5gE5s8"
      },
      "execution_count": 12,
      "outputs": []
    },
    {
      "cell_type": "code",
      "source": [
        "def format_results(result_dict, method_name):\n",
        "    rows = []\n",
        "    for key, metrics in result_dict.items():\n",
        "        if isinstance(key, tuple):\n",
        "            proc, c = key\n",
        "        else:\n",
        "            proc, c = key, 'N/A'\n",
        "        row = {'Method': method_name, 'Preprocessing': proc, 'Clusters': c}\n",
        "        row.update(metrics)\n",
        "        rows.append(row)\n",
        "    return rows\n",
        "\n",
        "all_results = (\n",
        "    format_results(results_kmeans, 'KMeans') +\n",
        "    format_results(results_hierarchical, 'Hierarchical') +\n",
        "    format_results(results_meanshift, 'MeanShift')\n",
        ")"
      ],
      "metadata": {
        "id": "3Qff8xxhFLx9"
      },
      "execution_count": 13,
      "outputs": []
    },
    {
      "cell_type": "code",
      "source": [
        "df_kmeans = pd.DataFrame(format_results(results_kmeans, 'KMeans'))\n",
        "df_hierarchical = pd.DataFrame(format_results(results_hierarchical, 'Hierarchical'))\n",
        "df_meanshift = pd.DataFrame(format_results(results_meanshift, 'MeanShift'))\n",
        "\n",
        "# Round numeric values\n",
        "numeric_cols = ['Silhouette', 'Calinski-Harabasz', 'Davies-Bouldin']\n",
        "for df in [df_kmeans, df_hierarchical, df_meanshift]:\n",
        "    for col in numeric_cols:\n",
        "        df[col] = pd.to_numeric(df[col], errors='coerce').round(3)\n",
        "\n",
        "# Display tables using tabulate\n",
        "print(\"\\n========== KMeans Clustering Results ==========\")\n",
        "print(tabulate(df_kmeans, headers='keys', tablefmt='grid', showindex=False))\n",
        "\n",
        "print(\"\\n========== Hierarchical Clustering Results ==========\")\n",
        "print(tabulate(df_hierarchical, headers='keys', tablefmt='grid', showindex=False))\n",
        "\n",
        "print(\"\\n========== MeanShift Clustering Results ==========\")\n",
        "print(tabulate(df_meanshift, headers='keys', tablefmt='grid', showindex=False))"
      ],
      "metadata": {
        "colab": {
          "base_uri": "https://localhost:8080/"
        },
        "id": "1jYghyXSG5tN",
        "outputId": "c398b6a4-458c-4c0e-9811-e14b30294926"
      },
      "execution_count": 16,
      "outputs": [
        {
          "output_type": "stream",
          "name": "stdout",
          "text": [
            "\n",
            "========== KMeans Clustering Results ==========\n",
            "+----------+---------------------+------------+--------------+---------------------+------------------+\n",
            "| Method   | Preprocessing       |   Clusters |   Silhouette |   Calinski-Harabasz |   Davies-Bouldin |\n",
            "+==========+=====================+============+==============+=====================+==================+\n",
            "| KMeans   | No Data Processing  |          3 |        0.601 |            1366.91  |            0.5   |\n",
            "+----------+---------------------+------------+--------------+---------------------+------------------+\n",
            "| KMeans   | No Data Processing  |          4 |        0.641 |            1896.72  |            0.421 |\n",
            "+----------+---------------------+------------+--------------+---------------------+------------------+\n",
            "| KMeans   | No Data Processing  |          5 |        0.651 |            2627.46  |            0.389 |\n",
            "+----------+---------------------+------------+--------------+---------------------+------------------+\n",
            "| KMeans   | Using Normalization |          3 |        0.295 |             379.646 |            1.511 |\n",
            "+----------+---------------------+------------+--------------+---------------------+------------------+\n",
            "| KMeans   | Using Normalization |          4 |        0.22  |             325.371 |            1.731 |\n",
            "+----------+---------------------+------------+--------------+---------------------+------------------+\n",
            "| KMeans   | Using Normalization |          5 |        0.214 |             286.412 |            1.699 |\n",
            "+----------+---------------------+------------+--------------+---------------------+------------------+\n",
            "| KMeans   | Using Transform     |          3 |        0.27  |             360.883 |            1.684 |\n",
            "+----------+---------------------+------------+--------------+---------------------+------------------+\n",
            "| KMeans   | Using Transform     |          4 |        0.21  |             328.224 |            1.823 |\n",
            "+----------+---------------------+------------+--------------+---------------------+------------------+\n",
            "| KMeans   | Using Transform     |          5 |        0.217 |             292.514 |            1.617 |\n",
            "+----------+---------------------+------------+--------------+---------------------+------------------+\n",
            "| KMeans   | Using PCA           |          3 |        0.607 |            1368.95  |            0.493 |\n",
            "+----------+---------------------+------------+--------------+---------------------+------------------+\n",
            "| KMeans   | Using PCA           |          4 |        0.648 |            1901.95  |            0.41  |\n",
            "+----------+---------------------+------------+--------------+---------------------+------------------+\n",
            "| KMeans   | Using PCA           |          5 |        0.662 |            2639.85  |            0.376 |\n",
            "+----------+---------------------+------------+--------------+---------------------+------------------+\n",
            "| KMeans   | Using T+N           |          3 |        0.27  |             360.883 |            1.684 |\n",
            "+----------+---------------------+------------+--------------+---------------------+------------------+\n",
            "| KMeans   | Using T+N           |          4 |        0.21  |             328.224 |            1.823 |\n",
            "+----------+---------------------+------------+--------------+---------------------+------------------+\n",
            "| KMeans   | Using T+N           |          5 |        0.217 |             292.514 |            1.617 |\n",
            "+----------+---------------------+------------+--------------+---------------------+------------------+\n",
            "| KMeans   | T+N+PCA             |          3 |        0.271 |             364.071 |            1.675 |\n",
            "+----------+---------------------+------------+--------------+---------------------+------------------+\n",
            "| KMeans   | T+N+PCA             |          4 |        0.211 |             331.336 |            1.813 |\n",
            "+----------+---------------------+------------+--------------+---------------------+------------------+\n",
            "| KMeans   | T+N+PCA             |          5 |        0.214 |             288.01  |            1.66  |\n",
            "+----------+---------------------+------------+--------------+---------------------+------------------+\n",
            "\n",
            "========== Hierarchical Clustering Results ==========\n",
            "+--------------+---------------------+------------+--------------+---------------------+------------------+\n",
            "| Method       | Preprocessing       |   Clusters |   Silhouette |   Calinski-Harabasz |   Davies-Bouldin |\n",
            "+==============+=====================+============+==============+=====================+==================+\n",
            "| Hierarchical | No Data Processing  |          3 |        0.601 |            1366.91  |            0.5   |\n",
            "+--------------+---------------------+------------+--------------+---------------------+------------------+\n",
            "| Hierarchical | No Data Processing  |          4 |        0.599 |            2043.43  |            0.621 |\n",
            "+--------------+---------------------+------------+--------------+---------------------+------------------+\n",
            "| Hierarchical | No Data Processing  |          5 |        0.644 |            2672.7   |            0.495 |\n",
            "+--------------+---------------------+------------+--------------+---------------------+------------------+\n",
            "| Hierarchical | Using Normalization |          3 |        0.334 |             376.532 |            1.215 |\n",
            "+--------------+---------------------+------------+--------------+---------------------+------------------+\n",
            "| Hierarchical | Using Normalization |          4 |        0.246 |             315.14  |            1.575 |\n",
            "+--------------+---------------------+------------+--------------+---------------------+------------------+\n",
            "| Hierarchical | Using Normalization |          5 |        0.196 |             273.168 |            1.805 |\n",
            "+--------------+---------------------+------------+--------------+---------------------+------------------+\n",
            "| Hierarchical | Using Transform     |          3 |        0.285 |             379.805 |            1.416 |\n",
            "+--------------+---------------------+------------+--------------+---------------------+------------------+\n",
            "| Hierarchical | Using Transform     |          4 |        0.227 |             308.003 |            1.553 |\n",
            "+--------------+---------------------+------------+--------------+---------------------+------------------+\n",
            "| Hierarchical | Using Transform     |          5 |        0.231 |             270.852 |            1.453 |\n",
            "+--------------+---------------------+------------+--------------+---------------------+------------------+\n",
            "| Hierarchical | Using PCA           |          3 |        0.607 |            1368.95  |            0.493 |\n",
            "+--------------+---------------------+------------+--------------+---------------------+------------------+\n",
            "| Hierarchical | Using PCA           |          4 |        0.608 |            2049.43  |            0.616 |\n",
            "+--------------+---------------------+------------+--------------+---------------------+------------------+\n",
            "| Hierarchical | Using PCA           |          5 |        0.657 |            2685.62  |            0.487 |\n",
            "+--------------+---------------------+------------+--------------+---------------------+------------------+\n",
            "| Hierarchical | Using T+N           |          3 |        0.285 |             379.805 |            1.416 |\n",
            "+--------------+---------------------+------------+--------------+---------------------+------------------+\n",
            "| Hierarchical | Using T+N           |          4 |        0.227 |             308.003 |            1.553 |\n",
            "+--------------+---------------------+------------+--------------+---------------------+------------------+\n",
            "| Hierarchical | Using T+N           |          5 |        0.231 |             270.852 |            1.453 |\n",
            "+--------------+---------------------+------------+--------------+---------------------+------------------+\n",
            "| Hierarchical | T+N+PCA             |          3 |        0.288 |             383.043 |            1.415 |\n",
            "+--------------+---------------------+------------+--------------+---------------------+------------------+\n",
            "| Hierarchical | T+N+PCA             |          4 |        0.228 |             310.491 |            1.551 |\n",
            "+--------------+---------------------+------------+--------------+---------------------+------------------+\n",
            "| Hierarchical | T+N+PCA             |          5 |        0.232 |             273.29  |            1.452 |\n",
            "+--------------+---------------------+------------+--------------+---------------------+------------------+\n",
            "\n",
            "========== MeanShift Clustering Results ==========\n",
            "+-----------+---------------------+------------+--------------+---------------------+------------------+\n",
            "| Method    | Preprocessing       | Clusters   |   Silhouette |   Calinski-Harabasz |   Davies-Bouldin |\n",
            "+===========+=====================+============+==============+=====================+==================+\n",
            "| MeanShift | No Data Processing  | N/A        |        0.657 |            2843.17  |            0.486 |\n",
            "+-----------+---------------------+------------+--------------+---------------------+------------------+\n",
            "| MeanShift | Using Normalization | N/A        |        0.391 |             579.722 |            1.112 |\n",
            "+-----------+---------------------+------------+--------------+---------------------+------------------+\n",
            "| MeanShift | Using Transform     | N/A        |        0.396 |             594.367 |            1.099 |\n",
            "+-----------+---------------------+------------+--------------+---------------------+------------------+\n",
            "| MeanShift | Using PCA           | N/A        |        0.662 |            2639.85  |            0.376 |\n",
            "+-----------+---------------------+------------+--------------+---------------------+------------------+\n",
            "| MeanShift | Using T+N           | N/A        |        0.396 |             594.367 |            1.099 |\n",
            "+-----------+---------------------+------------+--------------+---------------------+------------------+\n",
            "| MeanShift | T+N+PCA             | N/A        |        0.398 |             599.047 |            1.094 |\n",
            "+-----------+---------------------+------------+--------------+---------------------+------------------+\n"
          ]
        }
      ]
    },
    {
      "cell_type": "code",
      "source": [
        "def save_table_image(df, title, filename):\n",
        "    fig, ax = plt.subplots(figsize=(16, 6))\n",
        "    ax.axis('off')\n",
        "    table = ax.table(\n",
        "        cellText=df.values,\n",
        "        colLabels=df.columns,\n",
        "        cellLoc='center',\n",
        "        loc='center'\n",
        "    )\n",
        "    table.auto_set_font_size(False)\n",
        "    table.set_fontsize(10)\n",
        "    table.scale(1.2, 1.2)\n",
        "    plt.title(title, fontsize=14, fontweight='bold')\n",
        "    plt.tight_layout()\n",
        "    plt.savefig(filename, dpi=300)\n",
        "    plt.close()\n",
        "\n",
        "# Save images\n",
        "save_table_image(df_kmeans, \"KMeans Clustering Results\", \"kmeans_results.png\")\n",
        "save_table_image(df_hierarchical, \"Hierarchical Clustering Results\", \"hierarchical_results.png\")\n",
        "save_table_image(df_meanshift, \"MeanShift Clustering Results\", \"meanshift_results.png\")"
      ],
      "metadata": {
        "id": "7eVnkqRdHtYV"
      },
      "execution_count": 20,
      "outputs": []
    },
    {
      "cell_type": "code",
      "source": [
        "import matplotlib.pyplot as plt\n",
        "\n",
        "# Replace these with your actual lists\n",
        "algorithms = ['KMeans', 'Hierarchical', 'MeanShift']\n",
        "sil_scores   = [0.72, 0.68, 0.59]    # best silhouette per algorithm\n",
        "cal_scores   = [210.3, 195.1, 180.4]  # best Calinski–Harabasz per algorithm\n",
        "dav_scores   = [0.38, 0.40, 0.45]     # best Davies–Bouldin per algorithm\n",
        "\n",
        "# — Silhouette Score Bar Chart\n",
        "plt.figure(figsize=(6, 4))\n",
        "plt.bar(algorithms, sil_scores)\n",
        "plt.ylabel('Silhouette Score')\n",
        "plt.title('Best Silhouette Score by Algorithm')\n",
        "plt.tight_layout()\n",
        "plt.savefig('best_silhouette_by_algo.png', dpi=300)\n",
        "plt.show()\n",
        "\n",
        "# — Calinski–Harabasz Score Bar Chart\n",
        "plt.figure(figsize=(6, 4))\n",
        "plt.bar(algorithms, cal_scores)\n",
        "plt.ylabel('Calinski–Harabasz Score')\n",
        "plt.title('Best Calinski–Harabasz Score by Algorithm')\n",
        "plt.tight_layout()\n",
        "plt.savefig('best_calinski_by_algo.png', dpi=300)\n",
        "plt.show()\n",
        "\n",
        "# — Davies–Bouldin Score Bar Chart\n",
        "plt.figure(figsize=(6, 4))\n",
        "plt.bar(algorithms, dav_scores)\n",
        "plt.ylabel('Davies–Bouldin Score')\n",
        "plt.title('Best Davies–Bouldin Score by Algorithm')\n",
        "plt.tight_layout()\n",
        "plt.savefig('best_davies_by_algo.png', dpi=300)\n",
        "plt.show()\n"
      ],
      "metadata": {
        "colab": {
          "base_uri": "https://localhost:8080/",
          "height": 1000
        },
        "id": "O6T_YgUULJ31",
        "outputId": "f5325e81-83d3-4cee-8801-79163356c991"
      },
      "execution_count": 25,
      "outputs": [
        {
          "output_type": "display_data",
          "data": {
            "text/plain": [
              "<Figure size 600x400 with 1 Axes>"
            ],
            "image/png": "[encoded data removed]"
          },
          "metadata": {}
        },
        {
          "output_type": "display_data",
          "data": {
            "text/plain": [
              "<Figure size 600x400 with 1 Axes>"
            ],
            "image/png": "[encoded data removed]"
          },
          "metadata": {}
        },
        {
          "output_type": "display_data",
          "data": {
            "text/plain": [
              "<Figure size 600x400 with 1 Axes>"
            ],
            "image/png": "[encoded data removed]"
          },
          "metadata": {}
        }
      ]
    }
  ]
}